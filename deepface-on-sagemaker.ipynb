{
 "cells": [
  {
   "cell_type": "markdown",
   "id": "9c34c6a5",
   "metadata": {},
   "source": [
    "## Build and Push Container"
   ]
  },
  {
   "cell_type": "markdown",
   "id": "4eba18ed",
   "metadata": {},
   "source": [
    "Based on: https://github.com/serengil/deepface/blob/master/deepface/api/src/modules/core/routes.py"
   ]
  },
  {
   "cell_type": "code",
   "execution_count": null,
   "id": "1511d60b",
   "metadata": {
    "scrolled": true
   },
   "outputs": [],
   "source": [
    "%%sh\n",
    "\n",
    "image_name=deepface \n",
    "bash ./build-and-push.sh $image_name"
   ]
  },
  {
   "cell_type": "markdown",
   "id": "11f762a7",
   "metadata": {},
   "source": [
    "## Deploy SageMaker Endpoint"
   ]
  },
  {
   "cell_type": "code",
   "execution_count": null,
   "id": "9470818b",
   "metadata": {},
   "outputs": [],
   "source": [
    "import sagemaker\n",
    "from sagemaker.serverless.serverless_inference_config import ServerlessInferenceConfig\n",
    "\n",
    "role = sagemaker.get_execution_role()"
   ]
  },
  {
   "cell_type": "code",
   "execution_count": null,
   "id": "9d7d8161",
   "metadata": {},
   "outputs": [],
   "source": [
    "image = \"807422752601.dkr.ecr.eu-west-1.amazonaws.com/deepface:latest\""
   ]
  },
  {
   "cell_type": "code",
   "execution_count": null,
   "id": "4c4a9c12",
   "metadata": {},
   "outputs": [],
   "source": [
    "model = sagemaker.model.Model(\n",
    "    image_uri=image,\n",
    "    role=role,\n",
    "    name=\"deepface\"\n",
    ")"
   ]
  },
  {
   "cell_type": "code",
   "execution_count": null,
   "id": "3b6655d3",
   "metadata": {},
   "outputs": [],
   "source": [
    "# Use serverles inference for dev/test\n",
    "serverless_config = ServerlessInferenceConfig(\n",
    "    memory_size_in_mb=6144, \n",
    "    max_concurrency=5,\n",
    ")\n",
    "\n",
    "model.deploy(\n",
    "    initial_instance_count=1,\n",
    "    instance_type=\"ml.m5.xlarge\",\n",
    "    # serverless_inference_config=serverless_config,\n",
    "    endpoint_name=\"deepface-endpoint\"\n",
    "    )"
   ]
  },
  {
   "cell_type": "markdown",
   "id": "c238fe86",
   "metadata": {},
   "source": [
    "## Call Endpoint using boto3"
   ]
  },
  {
   "cell_type": "code",
   "execution_count": null,
   "id": "a7ab4ef6",
   "metadata": {},
   "outputs": [],
   "source": [
    "import base64\n",
    "import cv2\n",
    "import boto3\n",
    "import json\n",
    "\n",
    "sm_runtime = boto3.client(\"sagemaker-runtime\")"
   ]
  },
  {
   "cell_type": "code",
   "execution_count": null,
   "id": "030048e9",
   "metadata": {},
   "outputs": [],
   "source": [
    "# Load image in base64\n",
    "def get_image_in_base64(image_file: str) -> str:\n",
    "    img = cv2.imread(image_file)\n",
    "    string = base64.b64encode(cv2.imencode('.jpg', img)[1]).decode()\n",
    "    img_base65 = f\"data:image/jpg;base64,{string}\"\n",
    "    return img_base65\n",
    "\n",
    "img1_base64: str = get_image_in_base64(\"steve-jobs.jpg\")\n",
    "img2_base64: str = get_image_in_base64(\"steve-2.jpg\")"
   ]
  },
  {
   "cell_type": "code",
   "execution_count": null,
   "id": "72a99bcc",
   "metadata": {},
   "outputs": [],
   "source": [
    "%%time\n",
    "\n",
    "payload = {\n",
    "    \"service\": \"represent\",\n",
    "    \"img_path\": img_base64, \n",
    "}\n",
    "\n",
    "response = sm_runtime.invoke_endpoint(\n",
    "    EndpointName=\"face-recognition-dev-serverless\",\n",
    "    Body=bytes(json.dumps(payload), encoding=\"utf-8\"),\n",
    "    ContentType='application/json',\n",
    ")\n",
    "\n",
    "response_json = json.loads(response[\"Body\"].read().decode())"
   ]
  },
  {
   "cell_type": "code",
   "execution_count": null,
   "id": "fd410f4f",
   "metadata": {
    "scrolled": true
   },
   "outputs": [],
   "source": [
    "response_json"
   ]
  },
  {
   "cell_type": "code",
   "execution_count": null,
   "id": "5d0acea2",
   "metadata": {},
   "outputs": [],
   "source": [
    "%%time\n",
    "\n",
    "payload = { # also supports analyze, verify - \n",
    "    \"service\": \"analyze\",\n",
    "    \"img_path\": img_base64, \n",
    "    \"actions\": [\"gender\"]\n",
    "}\n",
    "\n",
    "response = sm_runtime.invoke_endpoint(\n",
    "    EndpointName=\"face-recognition-dev-serverless\",\n",
    "    Body=bytes(json.dumps(payload), encoding=\"utf-8\"),\n",
    "    ContentType='application/json',\n",
    ")\n",
    "\n",
    "response_json = json.loads(response[\"Body\"].read().decode())"
   ]
  },
  {
   "cell_type": "code",
   "execution_count": null,
   "id": "ce565887",
   "metadata": {},
   "outputs": [],
   "source": [
    "response_json"
   ]
  },
  {
   "cell_type": "code",
   "execution_count": null,
   "id": "49223f04",
   "metadata": {},
   "outputs": [],
   "source": [
    "%%time\n",
    "\n",
    "payload = { # also supports analyze, verify - \n",
    "    \"service\": \"verify\",\n",
    "    \"img1\": img1_base64, \n",
    "    \"img2\": img2_base64, \n",
    "}\n",
    "\n",
    "response = sm_runtime.invoke_endpoint(\n",
    "    EndpointName=\"face-recognition-dev-serverless\",\n",
    "    Body=bytes(json.dumps(payload), encoding=\"utf-8\"),\n",
    "    ContentType='application/json',\n",
    ")\n",
    "\n",
    "response_json = json.loads(response[\"Body\"].read().decode())"
   ]
  },
  {
   "cell_type": "code",
   "execution_count": null,
   "id": "2eeba752",
   "metadata": {},
   "outputs": [],
   "source": [
    "response_json"
   ]
  },
  {
   "cell_type": "code",
   "execution_count": null,
   "id": "7db5c388",
   "metadata": {},
   "outputs": [],
   "source": []
  }
 ],
 "metadata": {
  "kernelspec": {
   "display_name": "conda_python3",
   "language": "python",
   "name": "conda_python3"
  },
  "language_info": {
   "codemirror_mode": {
    "name": "ipython",
    "version": 3
   },
   "file_extension": ".py",
   "mimetype": "text/x-python",
   "name": "python",
   "nbconvert_exporter": "python",
   "pygments_lexer": "ipython3",
   "version": "3.6.13"
  }
 },
 "nbformat": 4,
 "nbformat_minor": 5
}
